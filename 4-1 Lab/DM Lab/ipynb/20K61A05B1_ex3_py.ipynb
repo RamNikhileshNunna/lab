{
  "cells": [
    {
      "cell_type": "code",
      "execution_count": null,
      "metadata": {
        "id": "XJbA1UrnqWFW"
      },
      "outputs": [],
      "source": [
        "import pandas as pd"
      ]
    },
    {
      "cell_type": "code",
      "execution_count": null,
      "metadata": {
        "colab": {
          "base_uri": "https://localhost:8080/"
        },
        "id": "Fc_gGVKk0kOC",
        "outputId": "b0d498e0-a652-49d3-a16b-c9b6feb1d07d"
      },
      "outputs": [
        {
          "name": "stdout",
          "output_type": "stream",
          "text": [
            "Pearsons Correlation:0.116\n"
          ]
        }
      ],
      "source": [
        "from numpy.random import randn\n",
        "from numpy.random import seed\n",
        "from scipy.stats import pearsonr\n",
        "\n",
        "seed(1)\n",
        "\n",
        "data1 = randn(1000) + 100\n",
        "data2 = data1 + (10*randn(1000) + 50)\n",
        "\n",
        "corr,_ = pearsonr(data1,data2)\n",
        "print('Pearsons Correlation:%.3f' % corr)"
      ]
    },
    {
      "cell_type": "code",
      "execution_count": null,
      "metadata": {
        "colab": {
          "background_save": true,
          "base_uri": "https://localhost:8080/"
        },
        "id": "FEsPXK6w33U8",
        "outputId": "7cbdc366-87d2-420c-b997-5eb690f86af5"
      },
      "outputs": [
        {
          "name": "stdout",
          "output_type": "stream",
          "text": [
            "0.958\n"
          ]
        }
      ],
      "source": [
        "from math import *\n",
        "def square_rooted(x):\n",
        "  return round(sqrt(sum([a * a for a in x])))\n",
        "def cosine_similarity(x,y):\n",
        "  numerator = sum(a * b for a,b in zip(x,y))\n",
        "  denominator = square_rooted(x) * square_rooted(y)\n",
        "  return round(numerator / float(denominator),3)\n",
        "print(cosine_similarity([3,45,7,2] , [2,54,13,15]))"
      ]
    },
    {
      "cell_type": "code",
      "execution_count": null,
      "metadata": {
        "colab": {
          "base_uri": "https://localhost:8080/"
        },
        "id": "HXy-ZMbg5yDL",
        "outputId": "1d3c4205-8a86-49da-83b7-9749a848be02"
      },
      "outputs": [
        {
          "output_type": "stream",
          "name": "stdout",
          "text": [
            "1.0\n"
          ]
        }
      ],
      "source": [
        "from math import *\n",
        "def jaccard_similarity(x,y):\n",
        "  ic = len(set.union(*[set(x),set(y)]))\n",
        "  uc = len(set.union(*[set(x),set(y)]))\n",
        "  return ic/float(uc)\n",
        "print(jaccard_similarity([0,1,2,5,6] , [0,2,3,5,7,9]))"
      ]
    },
    {
      "cell_type": "code",
      "execution_count": null,
      "metadata": {
        "id": "8-Dn79DU56bJ",
        "colab": {
          "base_uri": "https://localhost:8080/"
        },
        "outputId": "8270079f-2ba1-4aa7-be2c-68dad4c7d878"
      },
      "outputs": [
        {
          "output_type": "stream",
          "name": "stdout",
          "text": [
            "9.746794344808963\n"
          ]
        }
      ],
      "source": [
        "from math import *\n",
        "def euclidean_distance(x,y):\n",
        "  return sqrt(sum(pow(a -b ,2) for a,b in zip(x,y)))\n",
        "print(euclidean_distance([0,3,4,5] ,[7,6,3,-1]))"
      ]
    },
    {
      "cell_type": "code",
      "source": [
        "def manhattan_distance(x,y):\n",
        "  return sum(abs(a -b) for a,b in zip(x,y))\n",
        "print(manhattan_distance([10,20,10], [10,20,20]))"
      ],
      "metadata": {
        "colab": {
          "base_uri": "https://localhost:8080/"
        },
        "id": "_MOmiH5I79w5",
        "outputId": "6242151f-8378-4916-c468-284ae140963d"
      },
      "execution_count": null,
      "outputs": [
        {
          "output_type": "stream",
          "name": "stdout",
          "text": [
            "10\n"
          ]
        }
      ]
    }
  ],
  "metadata": {
    "colab": {
      "provenance": []
    },
    "kernelspec": {
      "display_name": "Python 3",
      "name": "python3"
    },
    "language_info": {
      "name": "python"
    }
  },
  "nbformat": 4,
  "nbformat_minor": 0
}